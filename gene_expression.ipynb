{
 "cells": [
  {
   "cell_type": "markdown",
   "id": "7524d4df",
   "metadata": {},
   "source": [
    "## Classificação de Leucemias com K-NN e Seleção de Genes\n",
    "**Dupla**: Beatriz Evelyn Dalfior (22.1.8012), Amanda Jacomette Dias Barbosa (22.1.8025)\n",
    "\n",
    "**Disciplina**: Aprendizagem de Máquina (CSI704)\n",
    "\n",
    "**Professor**: Luiz Carlos Bambirra Torres\n",
    "\n",
    "---"
   ]
  },
  {
   "cell_type": "code",
   "execution_count": 92,
   "id": "e4b1ce0d",
   "metadata": {},
   "outputs": [],
   "source": [
    "import pandas as pd\n",
    "import numpy as np\n",
    "import seaborn as sns\n",
    "import matplotlib.pyplot as plt\n",
    "from sklearn.preprocessing import StandardScaler\n",
    "from sklearn.model_selection import train_test_split\n",
    "\n",
    "from sklearn.model_selection import train_test_split, cross_val_score\n",
    "from sklearn.preprocessing import StandardScaler\n",
    "from sklearn.feature_selection import VarianceThreshold, SequentialFeatureSelector\n",
    "from sklearn.metrics import accuracy_score, confusion_matrix, classification_report\n",
    "from sklearn.neighbors import KNeighborsClassifier\n",
    "from sklearn.feature_selection import SelectKBest, f_classif\n",
    "from imblearn.over_sampling import SMOTE\n",
    "from sklearn.preprocessing import MinMaxScaler\n",
    "from sklearn.metrics import precision_score, recall_score, f1_score, confusion_matrix\n",
    "from sklearn.model_selection import StratifiedKFold\n",
    "from sklearn.model_selection import cross_validate\n",
    "\n"
   ]
  },
  {
   "cell_type": "markdown",
   "id": "65188b72",
   "metadata": {},
   "source": [
    "___\n",
    "\n",
    "### 1.1 Aquisição e inspeção \n",
    "#### Informações sobre o dataset\n",
    "O dataset Gene expression dataset (Golub et al.) contém perfis de expressão de 7.129 genes medidos em 72 amostras de leucemia – 47 ALL (linfoblástica) e 25 AML (mieloblástica).\n",
    "\n",
    "#### Arquivos\n",
    "- **Treino**: `data_set_ALL_AML_train.csv`\n",
    "- **Teste**: `data_set_ALL_AML_independent.csv`\n",
    "- **Rótulos**: `actual.csv`"
   ]
  },
  {
   "cell_type": "code",
   "execution_count": 93,
   "id": "69fb56e2",
   "metadata": {},
   "outputs": [],
   "source": [
    "# ------------------------- Load dataset -------------------------\n",
    "\n",
    "df_train = pd.read_csv('data_set_ALL_AML_train.csv', encoding='latin1')\n",
    "df_test = pd.read_csv('data_set_ALL_AML_independent.csv', encoding='latin1')\n",
    "df_labels = pd.read_csv('actual.csv', encoding='latin1')\n"
   ]
  },
  {
   "cell_type": "markdown",
   "id": "7d87a347",
   "metadata": {},
   "source": [
    "___\n",
    "\n",
    "### 1.2 Pré-processamento\n",
    "Algumas observações sobre os dados precisam ser feitas:\n",
    "- Os arquivos de *treino* e *teste* têm **genes** nas linhas e **amostras** nas colunas: é preciso **transpor** os arquivos para que cada linha represente uma amostra e cada coluna um gene;\n",
    "- As colunas **call** são valores qualitativos, indicando a qualidade da medição do gene. Portanto, são redundantes;\n",
    "- O arquivo `actual.csv` apresenta os rótulos (ALL ou AML) para cada amostra nos conjutnos de treino e teste. Portanto: os nomes das colunas nos datasets de expressão são os IDs dos pacientes;\n",
    "- Ademais, é preciso **normalizar** os dados antes de usá-los no modelo.\n"
   ]
  },
  {
   "cell_type": "markdown",
   "id": "1d1be37b",
   "metadata": {},
   "source": [
    "### Descrição das variáveis, classes, distribuição e valores ausentes\n",
    "\n",
    "O conjunto de dados de expressão gênica utilizado contém perfis de 7.129 genes para 72 amostras de pacientes com leucemia. Cada linha do dataframe final representa um paciente, e cada coluna (exceto as de identificação e rótulo) representa a expressão de um gene.\n",
    "\n",
    "- **Variáveis:**  \n",
    "  - **patient:** identificador do paciente.\n",
    "  - **cancer:** classe alvo, indicando o tipo de leucemia (ALL = 0, AML = 1).\n",
    "  - **Genes:** 7.129 colunas numéricas, cada uma representando o nível de expressão de um gene diferente.\n",
    "\n",
    "- **Classes:**  \n",
    "  - **ALL (Leucemia Linfoblástica Aguda):** codificada como 0.\n",
    "  - **AML (Leucemia Mieloblástica Aguda):** codificada como 1.\n",
    "  - Distribuição original: 47 amostras ALL e 25 AML, evidenciando certo desbalanceamento.\n",
    "\n",
    "- **Distribuição:**  \n",
    "  - Desbalenceado devido a diferença de quantidade da ALL (47 amostras) e da AML (25 amostras), havendo então a necessidade de tratamento.\n",
    "  - Os valores das expressões gênicas são contínuos e variam bastante, por isso é feita normalização antes do uso em modelos.\n",
    "\n",
    "- **Valores ausentes:**  \n",
    "  - De acordo com verificação posterior o dataset não apresenta valores ausentes ou duplicados.\n",
    "\n",
    "Em resumo, o dataset é de alta dimensionalidade (muitas variáveis), com duas classes alvo e não apresenta valores ausentes ou duplicados relevantes.\n"
   ]
  },
  {
   "cell_type": "code",
   "execution_count": 94,
   "id": "8f429057",
   "metadata": {},
   "outputs": [
    {
     "name": "stderr",
     "output_type": "stream",
     "text": [
      "C:\\Users\\Beatriz\\AppData\\Local\\Temp\\ipykernel_18568\\3853681862.py:26: FutureWarning: Downcasting behavior in `replace` is deprecated and will be removed in a future version. To retain the old behavior, explicitly call `result.infer_objects(copy=False)`. To opt-in to the future behavior, set `pd.set_option('future.no_silent_downcasting', True)`\n",
      "  pc_train['cancer'] = pc_train['cancer'].replace(dic)\n",
      "C:\\Users\\Beatriz\\AppData\\Local\\Temp\\ipykernel_18568\\3853681862.py:33: FutureWarning: Downcasting behavior in `replace` is deprecated and will be removed in a future version. To retain the old behavior, explicitly call `result.infer_objects(copy=False)`. To opt-in to the future behavior, set `pd.set_option('future.no_silent_downcasting', True)`\n",
      "  pc_test['cancer'] = pc_test['cancer'].replace(dic)\n"
     ]
    }
   ],
   "source": [
    "# -------------------------  Preprocess dataset -------------------------\n",
    "# drop 'call' columns\n",
    "df_train = df_train[[col for col in df_train.columns if 'call' not in col]]\n",
    "df_test = df_test[[col for col in df_test.columns if 'call' not in col]]\n",
    "\n",
    "# transpose rows and columns\n",
    "df_train = df_train.T\n",
    "df_test = df_test.T\n",
    "\n",
    "# clean up the column names for training data\n",
    "df_train.columns = df_train.iloc[1]\n",
    "df_test.columns = df_test.iloc[1]\n",
    "\n",
    "df_train = df_train.drop([\"Gene Description\", \"Gene Accession Number\"]).apply(pd.to_numeric)\n",
    "df_test = df_test.drop([\"Gene Description\", \"Gene Accession Number\"]).apply(pd.to_numeric)\n",
    "\n",
    "# reset the index \n",
    "# the indexes need to be the same before combining them\n",
    "df_train = df_train.reset_index(drop=True)\n",
    "df_test = df_test.reset_index(drop=True)\n",
    "\n",
    "# subset the first 38 patient's cancer types\n",
    "pc_train = df_labels[df_labels.patient <= 38].reset_index(drop=True)\n",
    "# replace cancer types with numerical values\n",
    "dic = {'ALL':0,'AML':1}\n",
    "pc_train['cancer'] = pc_train['cancer'].replace(dic)\n",
    "# combine dataframes for first 38 patients: \n",
    "# patient number + cancer type + gene expression values\n",
    "df_train = pd.concat([pc_train, df_train], axis=1)\n",
    "\n",
    "# handle the test data for patients 38 through 72\n",
    "pc_test = df_labels[df_labels.patient > 38].reset_index(drop=True)\n",
    "pc_test['cancer'] = pc_test['cancer'].replace(dic)\n",
    "# combine dataframes for last patients: \n",
    "# patient number + cancer type + gene expression values\n",
    "df_test = pd.concat([pc_test, df_test], axis=1)\n",
    "\n",
    "# join all the data\n",
    "df_all = pd.concat([df_train, df_test], axis=0)\n",
    "\n"
   ]
  },
  {
   "cell_type": "code",
   "execution_count": 95,
   "id": "f2176d15",
   "metadata": {},
   "outputs": [
    {
     "data": {
      "text/html": [
       "<div>\n",
       "<style scoped>\n",
       "    .dataframe tbody tr th:only-of-type {\n",
       "        vertical-align: middle;\n",
       "    }\n",
       "\n",
       "    .dataframe tbody tr th {\n",
       "        vertical-align: top;\n",
       "    }\n",
       "\n",
       "    .dataframe thead th {\n",
       "        text-align: right;\n",
       "    }\n",
       "</style>\n",
       "<table border=\"1\" class=\"dataframe\">\n",
       "  <thead>\n",
       "    <tr style=\"text-align: right;\">\n",
       "      <th></th>\n",
       "      <th>patient</th>\n",
       "      <th>cancer</th>\n",
       "      <th>AFFX-BioB-5_at</th>\n",
       "      <th>AFFX-BioB-M_at</th>\n",
       "      <th>AFFX-BioB-3_at</th>\n",
       "      <th>AFFX-BioC-5_at</th>\n",
       "      <th>AFFX-BioC-3_at</th>\n",
       "      <th>AFFX-BioDn-5_at</th>\n",
       "      <th>AFFX-BioDn-3_at</th>\n",
       "      <th>AFFX-CreX-5_at</th>\n",
       "      <th>...</th>\n",
       "      <th>U48730_at</th>\n",
       "      <th>U58516_at</th>\n",
       "      <th>U73738_at</th>\n",
       "      <th>X06956_at</th>\n",
       "      <th>X16699_at</th>\n",
       "      <th>X83863_at</th>\n",
       "      <th>Z17240_at</th>\n",
       "      <th>L49218_f_at</th>\n",
       "      <th>M71243_f_at</th>\n",
       "      <th>Z78285_f_at</th>\n",
       "    </tr>\n",
       "  </thead>\n",
       "  <tbody>\n",
       "    <tr>\n",
       "      <th>0</th>\n",
       "      <td>1</td>\n",
       "      <td>0</td>\n",
       "      <td>-214</td>\n",
       "      <td>-153</td>\n",
       "      <td>-58</td>\n",
       "      <td>88</td>\n",
       "      <td>-295</td>\n",
       "      <td>-558</td>\n",
       "      <td>199</td>\n",
       "      <td>-176</td>\n",
       "      <td>...</td>\n",
       "      <td>185</td>\n",
       "      <td>511</td>\n",
       "      <td>-125</td>\n",
       "      <td>389</td>\n",
       "      <td>-37</td>\n",
       "      <td>793</td>\n",
       "      <td>329</td>\n",
       "      <td>36</td>\n",
       "      <td>191</td>\n",
       "      <td>-37</td>\n",
       "    </tr>\n",
       "    <tr>\n",
       "      <th>1</th>\n",
       "      <td>2</td>\n",
       "      <td>0</td>\n",
       "      <td>-139</td>\n",
       "      <td>-73</td>\n",
       "      <td>-1</td>\n",
       "      <td>283</td>\n",
       "      <td>-264</td>\n",
       "      <td>-400</td>\n",
       "      <td>-330</td>\n",
       "      <td>-168</td>\n",
       "      <td>...</td>\n",
       "      <td>169</td>\n",
       "      <td>837</td>\n",
       "      <td>-36</td>\n",
       "      <td>442</td>\n",
       "      <td>-17</td>\n",
       "      <td>782</td>\n",
       "      <td>295</td>\n",
       "      <td>11</td>\n",
       "      <td>76</td>\n",
       "      <td>-14</td>\n",
       "    </tr>\n",
       "    <tr>\n",
       "      <th>2</th>\n",
       "      <td>3</td>\n",
       "      <td>0</td>\n",
       "      <td>-76</td>\n",
       "      <td>-49</td>\n",
       "      <td>-307</td>\n",
       "      <td>309</td>\n",
       "      <td>-376</td>\n",
       "      <td>-650</td>\n",
       "      <td>33</td>\n",
       "      <td>-367</td>\n",
       "      <td>...</td>\n",
       "      <td>315</td>\n",
       "      <td>1199</td>\n",
       "      <td>33</td>\n",
       "      <td>168</td>\n",
       "      <td>52</td>\n",
       "      <td>1138</td>\n",
       "      <td>777</td>\n",
       "      <td>41</td>\n",
       "      <td>228</td>\n",
       "      <td>-41</td>\n",
       "    </tr>\n",
       "    <tr>\n",
       "      <th>3</th>\n",
       "      <td>4</td>\n",
       "      <td>0</td>\n",
       "      <td>-135</td>\n",
       "      <td>-114</td>\n",
       "      <td>265</td>\n",
       "      <td>12</td>\n",
       "      <td>-419</td>\n",
       "      <td>-585</td>\n",
       "      <td>158</td>\n",
       "      <td>-253</td>\n",
       "      <td>...</td>\n",
       "      <td>240</td>\n",
       "      <td>835</td>\n",
       "      <td>218</td>\n",
       "      <td>174</td>\n",
       "      <td>-110</td>\n",
       "      <td>627</td>\n",
       "      <td>170</td>\n",
       "      <td>-50</td>\n",
       "      <td>126</td>\n",
       "      <td>-91</td>\n",
       "    </tr>\n",
       "    <tr>\n",
       "      <th>4</th>\n",
       "      <td>5</td>\n",
       "      <td>0</td>\n",
       "      <td>-106</td>\n",
       "      <td>-125</td>\n",
       "      <td>-76</td>\n",
       "      <td>168</td>\n",
       "      <td>-230</td>\n",
       "      <td>-284</td>\n",
       "      <td>4</td>\n",
       "      <td>-122</td>\n",
       "      <td>...</td>\n",
       "      <td>156</td>\n",
       "      <td>649</td>\n",
       "      <td>57</td>\n",
       "      <td>504</td>\n",
       "      <td>-26</td>\n",
       "      <td>250</td>\n",
       "      <td>314</td>\n",
       "      <td>14</td>\n",
       "      <td>56</td>\n",
       "      <td>-25</td>\n",
       "    </tr>\n",
       "  </tbody>\n",
       "</table>\n",
       "<p>5 rows × 7131 columns</p>\n",
       "</div>"
      ],
      "text/plain": [
       "   patient  cancer  AFFX-BioB-5_at  AFFX-BioB-M_at  AFFX-BioB-3_at  \\\n",
       "0        1       0            -214            -153             -58   \n",
       "1        2       0            -139             -73              -1   \n",
       "2        3       0             -76             -49            -307   \n",
       "3        4       0            -135            -114             265   \n",
       "4        5       0            -106            -125             -76   \n",
       "\n",
       "   AFFX-BioC-5_at  AFFX-BioC-3_at  AFFX-BioDn-5_at  AFFX-BioDn-3_at  \\\n",
       "0              88            -295             -558              199   \n",
       "1             283            -264             -400             -330   \n",
       "2             309            -376             -650               33   \n",
       "3              12            -419             -585              158   \n",
       "4             168            -230             -284                4   \n",
       "\n",
       "   AFFX-CreX-5_at  ...  U48730_at  U58516_at  U73738_at  X06956_at  X16699_at  \\\n",
       "0            -176  ...        185        511       -125        389        -37   \n",
       "1            -168  ...        169        837        -36        442        -17   \n",
       "2            -367  ...        315       1199         33        168         52   \n",
       "3            -253  ...        240        835        218        174       -110   \n",
       "4            -122  ...        156        649         57        504        -26   \n",
       "\n",
       "   X83863_at  Z17240_at  L49218_f_at  M71243_f_at  Z78285_f_at  \n",
       "0        793        329           36          191          -37  \n",
       "1        782        295           11           76          -14  \n",
       "2       1138        777           41          228          -41  \n",
       "3        627        170          -50          126          -91  \n",
       "4        250        314           14           56          -25  \n",
       "\n",
       "[5 rows x 7131 columns]"
      ]
     },
     "execution_count": 95,
     "metadata": {},
     "output_type": "execute_result"
    }
   ],
   "source": [
    "# ------------------------- Data Exploration -------------------------\n",
    "# df_train.describe()\n",
    "# df_train.head()\n",
    "\n",
    "df_all.head()\n",
    "\n",
    "# df_all['cancer'].value_counts()\n",
    "\n",
    "# df_labels.head()"
   ]
  },
  {
   "cell_type": "code",
   "execution_count": 96,
   "id": "4d12da40",
   "metadata": {},
   "outputs": [],
   "source": [
    "# select features and target variable\n",
    "X = df_all.drop(['patient', 'cancer'], axis=1)\n",
    "y = df_all['cancer']"
   ]
  },
  {
   "cell_type": "code",
   "execution_count": 97,
   "id": "dde4bc53",
   "metadata": {},
   "outputs": [
    {
     "name": "stderr",
     "output_type": "stream",
     "text": [
      "C:\\Users\\Beatriz\\AppData\\Local\\Temp\\ipykernel_18568\\3031754782.py:4: FutureWarning: \n",
      "\n",
      "Passing `palette` without assigning `hue` is deprecated and will be removed in v0.14.0. Assign the `x` variable to `hue` and set `legend=False` for the same effect.\n",
      "\n",
      "  sns.countplot(x='cancer', data=df_all, palette='Set2')\n"
     ]
    },
    {
     "data": {
      "image/png": "[encoded data removed]",
      "text/plain": [
       "<Figure size 800x400 with 1 Axes>"
      ]
     },
     "metadata": {},
     "output_type": "display_data"
    }
   ],
   "source": [
    "# plot distribution of classes\n",
    "\n",
    "plt.figure(figsize=(8, 4))\n",
    "sns.countplot(x='cancer', data=df_all, palette='Set2')\n",
    "plt.title('Distribuição das classes de câncer')\n",
    "plt.xlabel('Tipo de câncer')\n",
    "plt.ylabel('Número de pacientes')\n",
    "plt.xticks(ticks=[0, 1], labels=['ALL', 'AML'])\n",
    "plt.grid(axis='y')\n",
    "plt.tight_layout()\n",
    "plt.savefig(\"distribuicao_classes.png\", dpi=150)\n",
    "\n",
    "plt.show()  "
   ]
  },
  {
   "cell_type": "code",
   "execution_count": 98,
   "id": "4924c9e4",
   "metadata": {},
   "outputs": [
    {
     "name": "stdout",
     "output_type": "stream",
     "text": [
      "Missing values in each feature:\n",
      " Series([], dtype: int64)\n",
      "Number of duplicate rows: 0\n"
     ]
    }
   ],
   "source": [
    "# Check for missing values\n",
    "missing_values = X.isnull().sum()\n",
    "print(\"Missing values in each feature:\\n\", missing_values[missing_values > 0])\n",
    "# Check for duplicate rows\n",
    "duplicates = X.duplicated().sum()\n",
    "print(\"Number of duplicate rows:\", duplicates)"
   ]
  },
  {
   "cell_type": "code",
   "execution_count": 99,
   "id": "cb2333cc",
   "metadata": {},
   "outputs": [],
   "source": [
    "# ------------------------- Data Preparation -------------------------\n",
    "\n",
    "# data normalization\n",
    "scaler = StandardScaler()\n",
    "X_scaled = scaler.fit_transform(X)\n",
    "\n",
    "# ------------------- Train/Test split -------------------\n",
    "X_train, X_test, y_train, y_test = train_test_split(\n",
    "    X_scaled, y, test_size=0.3, stratify=y, random_state=42\n",
    ")"
   ]
  },
  {
   "cell_type": "code",
   "execution_count": 100,
   "id": "9b0f18af",
   "metadata": {
    "vscode": {
     "languageId": "ruby"
    }
   },
   "outputs": [
    {
     "data": {
      "image/png": "[encoded data removed]",
      "text/plain": [
       "<Figure size 1400x500 with 2 Axes>"
      ]
     },
     "metadata": {},
     "output_type": "display_data"
    }
   ],
   "source": [
    "# Comparação visual dos dados antes e depois da normalização\n",
    "fig, axs = plt.subplots(1, 2, figsize=(14, 5))\n",
    "\n",
    "# Plot dos dados originais (primeiro gene)\n",
    "axs[0].hist(X.iloc[:, 0], bins=30, color='skyblue', edgecolor='black')\n",
    "axs[0].set_title('Gene 0 - Antes da normalização')\n",
    "axs[0].set_xlabel('Expressão')\n",
    "axs[0].set_ylabel('Frequência')\n",
    "\n",
    "# Plot dos dados normalizados (primeiro gene)\n",
    "axs[1].hist(X_reduced[:, 0], bins=30, color='salmon', edgecolor='black')\n",
    "axs[1].set_title('Gene 0 - Após normalização')\n",
    "axs[1].set_xlabel('Expressão Normalizada')\n",
    "axs[1].set_ylabel('Frequência')\n",
    "\n",
    "plt.tight_layout()\n",
    "plt.savefig(\"antesEdepois1.png\", dpi=150)\n",
    "plt.show()"
   ]
  },
  {
   "cell_type": "code",
   "execution_count": 11,
   "id": "e0a7e71d",
   "metadata": {},
   "outputs": [
    {
     "data": {
      "image/png": "[encoded data removed]",
      "text/plain": [
       "<Figure size 640x480 with 1 Axes>"
      ]
     },
     "metadata": {},
     "output_type": "display_data"
    }
   ],
   "source": [
    "plt.hist(X.iloc[:, 0], bins=30, alpha=0.5, label='Original')\n",
    "plt.hist(X_scaled[:, 0], bins=30, alpha=0.5, label='Escalonado')\n",
    "plt.title('Distribuição do gene 0')\n",
    "plt.legend()\n",
    "plt.savefig(\"antesEdepois2.png\", dpi=150)\n",
    "plt.show()"
   ]
  },
  {
   "cell_type": "markdown",
   "id": "49c7402a",
   "metadata": {},
   "source": [
    "___\n",
    "### 1.3 Baseline \"K‑NN completo\"\n",
    "Utilizando todas as 7129 features, com validação cruzada estratificada (k-fold = 5 e 10) e variando k em 1, 3, 5, 7 e 9. No final, é feita a amtriz de confusão média e registradas as métricas de precisão, recall e F1-Score."
   ]
  },
  {
   "cell_type": "code",
   "execution_count": 101,
   "id": "dbb0f341",
   "metadata": {},
   "outputs": [
    {
     "name": "stderr",
     "output_type": "stream",
     "text": [
      "C:\\Users\\Beatriz\\AppData\\Roaming\\Python\\Python313\\site-packages\\sklearn\\metrics\\_classification.py:1565: UndefinedMetricWarning: Precision is ill-defined and being set to 0.0 in labels with no predicted samples. Use `zero_division` parameter to control this behavior.\n",
      "  _warn_prf(average, modifier, f\"{metric.capitalize()} is\", len(result))\n",
      "C:\\Users\\Beatriz\\AppData\\Roaming\\Python\\Python313\\site-packages\\sklearn\\metrics\\_classification.py:1565: UndefinedMetricWarning: Precision is ill-defined and being set to 0.0 in labels with no predicted samples. Use `zero_division` parameter to control this behavior.\n",
      "  _warn_prf(average, modifier, f\"{metric.capitalize()} is\", len(result))\n",
      "C:\\Users\\Beatriz\\AppData\\Roaming\\Python\\Python313\\site-packages\\sklearn\\metrics\\_classification.py:1565: UndefinedMetricWarning: Precision is ill-defined and being set to 0.0 in labels with no predicted samples. Use `zero_division` parameter to control this behavior.\n",
      "  _warn_prf(average, modifier, f\"{metric.capitalize()} is\", len(result))\n",
      "C:\\Users\\Beatriz\\AppData\\Roaming\\Python\\Python313\\site-packages\\sklearn\\metrics\\_classification.py:1565: UndefinedMetricWarning: Precision is ill-defined and being set to 0.0 in labels with no predicted samples. Use `zero_division` parameter to control this behavior.\n",
      "  _warn_prf(average, modifier, f\"{metric.capitalize()} is\", len(result))\n",
      "C:\\Users\\Beatriz\\AppData\\Roaming\\Python\\Python313\\site-packages\\sklearn\\metrics\\_classification.py:1565: UndefinedMetricWarning: Precision is ill-defined and being set to 0.0 in labels with no predicted samples. Use `zero_division` parameter to control this behavior.\n",
      "  _warn_prf(average, modifier, f\"{metric.capitalize()} is\", len(result))\n",
      "C:\\Users\\Beatriz\\AppData\\Roaming\\Python\\Python313\\site-packages\\sklearn\\metrics\\_classification.py:1565: UndefinedMetricWarning: Precision is ill-defined and being set to 0.0 in labels with no predicted samples. Use `zero_division` parameter to control this behavior.\n",
      "  _warn_prf(average, modifier, f\"{metric.capitalize()} is\", len(result))\n",
      "C:\\Users\\Beatriz\\AppData\\Roaming\\Python\\Python313\\site-packages\\sklearn\\metrics\\_classification.py:1565: UndefinedMetricWarning: Precision is ill-defined and being set to 0.0 in labels with no predicted samples. Use `zero_division` parameter to control this behavior.\n",
      "  _warn_prf(average, modifier, f\"{metric.capitalize()} is\", len(result))\n",
      "C:\\Users\\Beatriz\\AppData\\Roaming\\Python\\Python313\\site-packages\\sklearn\\metrics\\_classification.py:1565: UndefinedMetricWarning: Precision is ill-defined and being set to 0.0 in labels with no predicted samples. Use `zero_division` parameter to control this behavior.\n",
      "  _warn_prf(average, modifier, f\"{metric.capitalize()} is\", len(result))\n"
     ]
    },
    {
     "name": "stdout",
     "output_type": "stream",
     "text": [
      "         config  K  folds  accuracy  precision    recall        f1\n",
      "0   k=1,folds=5  1      5      0.56   0.578333  0.578571  0.546389\n",
      "1  k=1,folds=10  1     10      0.50   0.500000  0.512500  0.466667\n",
      "2   k=3,folds=5  3      5      0.74   0.733333  0.728571  0.715201\n",
      "3  k=3,folds=10  3     10      0.74   0.682500  0.700000  0.659563\n",
      "4   k=5,folds=5  5      5      0.78   0.786310  0.740476  0.746227\n",
      "5  k=5,folds=10  5     10      0.72   0.674167  0.683333  0.637897\n",
      "6   k=7,folds=5  7      5      0.80   0.789167  0.725000  0.715000\n",
      "7  k=7,folds=10  7     10      0.80   0.720833  0.733333  0.706349\n",
      "8   k=9,folds=5  9      5      0.76   0.671667  0.658333  0.624020\n",
      "9  k=9,folds=10  9     10      0.78   0.680000  0.700000  0.661706\n",
      "Métrica: accuracy\n",
      "Maior valor: 0.8\n",
      "Linha correspondente:\n",
      "{'config': 'k=7,folds=5', 'K': 7, 'folds': 5, 'accuracy': 0.8, 'precision': 0.7891666666666666, 'recall': 0.725, 'f1': 0.7150000000000001}\n",
      "--------------------------------------------------\n",
      "Métrica: precision\n",
      "Maior valor: 0.7891666666666666\n",
      "Linha correspondente:\n",
      "{'config': 'k=7,folds=5', 'K': 7, 'folds': 5, 'accuracy': 0.8, 'precision': 0.7891666666666666, 'recall': 0.725, 'f1': 0.7150000000000001}\n",
      "--------------------------------------------------\n",
      "Métrica: recall\n",
      "Maior valor: 0.7404761904761905\n",
      "Linha correspondente:\n",
      "{'config': 'k=5,folds=5', 'K': 5, 'folds': 5, 'accuracy': 0.78, 'precision': 0.7863095238095239, 'recall': 0.7404761904761905, 'f1': 0.7462271062271062}\n",
      "--------------------------------------------------\n",
      "Métrica: f1\n",
      "Maior valor: 0.7462271062271062\n",
      "Linha correspondente:\n",
      "{'config': 'k=5,folds=5', 'K': 5, 'folds': 5, 'accuracy': 0.78, 'precision': 0.7863095238095239, 'recall': 0.7404761904761905, 'f1': 0.7462271062271062}\n",
      "--------------------------------------------------\n"
     ]
    },
    {
     "name": "stderr",
     "output_type": "stream",
     "text": [
      "C:\\Users\\Beatriz\\AppData\\Roaming\\Python\\Python313\\site-packages\\sklearn\\metrics\\_classification.py:1565: UndefinedMetricWarning: Precision is ill-defined and being set to 0.0 in labels with no predicted samples. Use `zero_division` parameter to control this behavior.\n",
      "  _warn_prf(average, modifier, f\"{metric.capitalize()} is\", len(result))\n",
      "C:\\Users\\Beatriz\\AppData\\Roaming\\Python\\Python313\\site-packages\\sklearn\\metrics\\_classification.py:1565: UndefinedMetricWarning: Precision is ill-defined and being set to 0.0 in labels with no predicted samples. Use `zero_division` parameter to control this behavior.\n",
      "  _warn_prf(average, modifier, f\"{metric.capitalize()} is\", len(result))\n",
      "C:\\Users\\Beatriz\\AppData\\Roaming\\Python\\Python313\\site-packages\\sklearn\\metrics\\_classification.py:1565: UndefinedMetricWarning: Precision is ill-defined and being set to 0.0 in labels with no predicted samples. Use `zero_division` parameter to control this behavior.\n",
      "  _warn_prf(average, modifier, f\"{metric.capitalize()} is\", len(result))\n",
      "C:\\Users\\Beatriz\\AppData\\Roaming\\Python\\Python313\\site-packages\\sklearn\\metrics\\_classification.py:1565: UndefinedMetricWarning: Precision is ill-defined and being set to 0.0 in labels with no predicted samples. Use `zero_division` parameter to control this behavior.\n",
      "  _warn_prf(average, modifier, f\"{metric.capitalize()} is\", len(result))\n",
      "C:\\Users\\Beatriz\\AppData\\Roaming\\Python\\Python313\\site-packages\\sklearn\\metrics\\_classification.py:1565: UndefinedMetricWarning: Precision is ill-defined and being set to 0.0 in labels with no predicted samples. Use `zero_division` parameter to control this behavior.\n",
      "  _warn_prf(average, modifier, f\"{metric.capitalize()} is\", len(result))\n",
      "C:\\Users\\Beatriz\\AppData\\Roaming\\Python\\Python313\\site-packages\\sklearn\\metrics\\_classification.py:1565: UndefinedMetricWarning: Precision is ill-defined and being set to 0.0 in labels with no predicted samples. Use `zero_division` parameter to control this behavior.\n",
      "  _warn_prf(average, modifier, f\"{metric.capitalize()} is\", len(result))\n"
     ]
    }
   ],
   "source": [
    "results = {}\n",
    "\n",
    "for k in [1, 3, 5, 7, 9]:\n",
    "    for folds in [5, 10]:\n",
    "        knn = KNeighborsClassifier(n_neighbors=k)\n",
    "        cv = StratifiedKFold(n_splits=folds, shuffle=True, random_state=42)\n",
    "        scoring = ['accuracy', 'precision_macro', 'recall_macro', 'f1_macro']\n",
    "        res = cross_validate(knn, X_train, y_train, cv=cv, scoring=scoring)\n",
    "        results[f\"k={k},folds={folds}\"] = res\n",
    "\n",
    "# Consolidação das métricas\n",
    "summary = []\n",
    "for config, res in results.items():\n",
    "    summary.append({\n",
    "        \"config\": config,\n",
    "        \"K\": int(config.split(',')[0].split('=')[1]),\n",
    "        \"folds\": int(config.split(',')[1].split('=')[1]),\n",
    "        \"accuracy\": np.mean(res['test_accuracy']),\n",
    "        \"precision\": np.mean(res['test_precision_macro']),\n",
    "        \"recall\": np.mean(res['test_recall_macro']),\n",
    "        \"f1\": np.mean(res['test_f1_macro'])\n",
    "    })\n",
    "\n",
    "baseline_df = pd.DataFrame(summary)\n",
    "print(baseline_df)\n",
    "\n",
    "# Lista de colunas a validar\n",
    "metricas = [\"accuracy\", \"precision\", \"recall\", \"f1\"]\n",
    "\n",
    "# Dicionário para armazenar os resultados\n",
    "maiores_resultados_StandardScaler = {}\n",
    "\n",
    "# Loop para encontrar o maior valor e a linha correspondente para cada métrica\n",
    "for metrica in metricas:\n",
    "    maior_valor = baseline_df[metrica].max()\n",
    "    maior_linha = baseline_df[baseline_df[metrica] == maior_valor]\n",
    "    # Convertendo para dicionário a primeira linha (caso haja empate, pega só a primeira)\n",
    "    maior_linha_dict = maior_linha.to_dict(orient='records')[0]\n",
    "    maiores_resultados_StandardScaler[metrica] = {\n",
    "        \"valor\": maior_valor,\n",
    "        \"linha\": maior_linha_dict\n",
    "    }\n",
    "\n",
    "# Exibir os resultados\n",
    "for metrica, resultado in maiores_resultados_StandardScaler.items():\n",
    "    print(f\"Métrica: {metrica}\")\n",
    "    print(f\"Maior valor: {resultado['valor']}\")\n",
    "    print(\"Linha correspondente:\")\n",
    "    print(resultado['linha'])\n",
    "    print(\"-\" * 50)\n"
   ]
  },
  {
   "cell_type": "code",
   "execution_count": 102,
   "id": "0c10466a",
   "metadata": {},
   "outputs": [
    {
     "data": {
      "image/png": "[encoded data removed]",
      "text/plain": [
       "<Figure size 640x480 with 2 Axes>"
      ]
     },
     "metadata": {},
     "output_type": "display_data"
    }
   ],
   "source": [
    "# ------------------- matriz de confusão -------------------\n",
    "knn = KNeighborsClassifier(n_neighbors=7)\n",
    "knn.fit(X_train, y_train)\n",
    "y_pred = knn.predict(X_test)\n",
    "cm = confusion_matrix(y_test, y_pred)\n",
    "sns.heatmap(cm, annot=True, fmt=\"d\", cmap=\"Blues\")\n",
    "plt.xlabel(\"Previsto\")\n",
    "plt.ylabel(\"Real\")\n",
    "plt.title(\"Matriz de Confusão\")\n",
    "plt.show()"
   ]
  },
  {
   "cell_type": "code",
   "execution_count": null,
   "id": "692c302f",
   "metadata": {},
   "outputs": [],
   "source": [
    "# ------------------------- Data Preparation -------------------------\n",
    "# data normalization\n",
    "minmax_scaler = MinMaxScaler()\n",
    "X_scaledM = minmax_scaler.fit_transform(X)\n",
    "\n",
    "# ------------------- Train/Test split -------------------\n",
    "X_train_Min, X_test_Min, y_train_Min, y_test_Min = train_test_split(\n",
    "    X_scaledM, y, test_size=0.3, stratify=y, random_state=42)"
   ]
  },
  {
   "cell_type": "code",
   "execution_count": 14,
   "id": "05c6c858",
   "metadata": {},
   "outputs": [
    {
     "data": {
      "image/png": "[encoded data removed]",
      "text/plain": [
       "<Figure size 1400x500 with 2 Axes>"
      ]
     },
     "metadata": {},
     "output_type": "display_data"
    }
   ],
   "source": [
    "# Comparação visual dos dados antes e depois da normalização\n",
    "fig, axs = plt.subplots(1, 2, figsize=(14, 5))\n",
    "\n",
    "# Plot dos dados originais (primeiro gene)\n",
    "axs[0].hist(X.iloc[:, 0], bins=30, color='skyblue', edgecolor='black')\n",
    "axs[0].set_title('Gene 0 - Antes da normalização')\n",
    "axs[0].set_xlabel('Expressão')\n",
    "axs[0].set_ylabel('Frequência')\n",
    "\n",
    "# Plot dos dados normalizados (primeiro gene)\n",
    "axs[1].hist(X_scaledM[:, 0], bins=30, color='salmon', edgecolor='black')\n",
    "axs[1].set_title('Gene 0 - Após normalização')\n",
    "axs[1].set_xlabel('Expressão Normalizada')\n",
    "axs[1].set_ylabel('Frequência')\n",
    "\n",
    "plt.tight_layout()\n",
    "plt.savefig(\"antesEdepois1.png\", dpi=150)\n",
    "plt.show()"
   ]
  },
  {
   "cell_type": "code",
   "execution_count": 15,
   "id": "084f8e1c",
   "metadata": {},
   "outputs": [
    {
     "name": "stderr",
     "output_type": "stream",
     "text": [
      "C:\\Users\\Beatriz\\AppData\\Roaming\\Python\\Python313\\site-packages\\sklearn\\metrics\\_classification.py:1565: UndefinedMetricWarning: Precision is ill-defined and being set to 0.0 in labels with no predicted samples. Use `zero_division` parameter to control this behavior.\n",
      "  _warn_prf(average, modifier, f\"{metric.capitalize()} is\", len(result))\n",
      "C:\\Users\\Beatriz\\AppData\\Roaming\\Python\\Python313\\site-packages\\sklearn\\metrics\\_classification.py:1565: UndefinedMetricWarning: Precision is ill-defined and being set to 0.0 in labels with no predicted samples. Use `zero_division` parameter to control this behavior.\n",
      "  _warn_prf(average, modifier, f\"{metric.capitalize()} is\", len(result))\n",
      "C:\\Users\\Beatriz\\AppData\\Roaming\\Python\\Python313\\site-packages\\sklearn\\metrics\\_classification.py:1565: UndefinedMetricWarning: Precision is ill-defined and being set to 0.0 in labels with no predicted samples. Use `zero_division` parameter to control this behavior.\n",
      "  _warn_prf(average, modifier, f\"{metric.capitalize()} is\", len(result))\n",
      "C:\\Users\\Beatriz\\AppData\\Roaming\\Python\\Python313\\site-packages\\sklearn\\metrics\\_classification.py:1565: UndefinedMetricWarning: Precision is ill-defined and being set to 0.0 in labels with no predicted samples. Use `zero_division` parameter to control this behavior.\n",
      "  _warn_prf(average, modifier, f\"{metric.capitalize()} is\", len(result))\n",
      "C:\\Users\\Beatriz\\AppData\\Roaming\\Python\\Python313\\site-packages\\sklearn\\metrics\\_classification.py:1565: UndefinedMetricWarning: Precision is ill-defined and being set to 0.0 in labels with no predicted samples. Use `zero_division` parameter to control this behavior.\n",
      "  _warn_prf(average, modifier, f\"{metric.capitalize()} is\", len(result))\n",
      "C:\\Users\\Beatriz\\AppData\\Roaming\\Python\\Python313\\site-packages\\sklearn\\metrics\\_classification.py:1565: UndefinedMetricWarning: Precision is ill-defined and being set to 0.0 in labels with no predicted samples. Use `zero_division` parameter to control this behavior.\n",
      "  _warn_prf(average, modifier, f\"{metric.capitalize()} is\", len(result))\n",
      "C:\\Users\\Beatriz\\AppData\\Roaming\\Python\\Python313\\site-packages\\sklearn\\metrics\\_classification.py:1565: UndefinedMetricWarning: Precision is ill-defined and being set to 0.0 in labels with no predicted samples. Use `zero_division` parameter to control this behavior.\n",
      "  _warn_prf(average, modifier, f\"{metric.capitalize()} is\", len(result))\n",
      "C:\\Users\\Beatriz\\AppData\\Roaming\\Python\\Python313\\site-packages\\sklearn\\metrics\\_classification.py:1565: UndefinedMetricWarning: Precision is ill-defined and being set to 0.0 in labels with no predicted samples. Use `zero_division` parameter to control this behavior.\n",
      "  _warn_prf(average, modifier, f\"{metric.capitalize()} is\", len(result))\n",
      "C:\\Users\\Beatriz\\AppData\\Roaming\\Python\\Python313\\site-packages\\sklearn\\metrics\\_classification.py:1565: UndefinedMetricWarning: Precision is ill-defined and being set to 0.0 in labels with no predicted samples. Use `zero_division` parameter to control this behavior.\n",
      "  _warn_prf(average, modifier, f\"{metric.capitalize()} is\", len(result))\n"
     ]
    },
    {
     "name": "stdout",
     "output_type": "stream",
     "text": [
      "         config  K  folds  accuracy  precision    recall        f1\n",
      "0   k=1,folds=5  1      5      0.58   0.591667  0.592857  0.563788\n",
      "1  k=1,folds=10  1     10      0.54   0.516667  0.529167  0.504524\n",
      "2   k=3,folds=5  3      5      0.72   0.725000  0.703571  0.682821\n",
      "3  k=3,folds=10  3     10      0.74   0.682500  0.700000  0.659563\n",
      "4   k=5,folds=5  5      5      0.76   0.706429  0.704762  0.689799\n",
      "5  k=5,folds=10  5     10      0.76   0.728333  0.712500  0.679563\n",
      "6   k=7,folds=5  7      5      0.80   0.789167  0.725000  0.715000\n",
      "7  k=7,folds=10  7     10      0.80   0.720833  0.733333  0.706349\n",
      "8   k=9,folds=5  9      5      0.80   0.886111  0.716667  0.724167\n",
      "9  k=9,folds=10  9     10      0.82   0.750000  0.750000  0.724206\n",
      "Métrica: accuracy\n",
      "Maior valor: 0.8200000000000001\n",
      "Linha correspondente:\n",
      "{'config': 'k=9,folds=10', 'K': 9, 'folds': 10, 'accuracy': 0.8200000000000001, 'precision': 0.7499999999999999, 'recall': 0.75, 'f1': 0.7242063492063492}\n",
      "--------------------------------------------------\n",
      "Métrica: precision\n",
      "Maior valor: 0.8861111111111111\n",
      "Linha correspondente:\n",
      "{'config': 'k=9,folds=5', 'K': 9, 'folds': 5, 'accuracy': 0.8, 'precision': 0.8861111111111111, 'recall': 0.7166666666666666, 'f1': 0.7241666666666667}\n",
      "--------------------------------------------------\n",
      "Métrica: recall\n",
      "Maior valor: 0.75\n",
      "Linha correspondente:\n",
      "{'config': 'k=9,folds=10', 'K': 9, 'folds': 10, 'accuracy': 0.8200000000000001, 'precision': 0.7499999999999999, 'recall': 0.75, 'f1': 0.7242063492063492}\n",
      "--------------------------------------------------\n",
      "Métrica: f1\n",
      "Maior valor: 0.7242063492063492\n",
      "Linha correspondente:\n",
      "{'config': 'k=9,folds=10', 'K': 9, 'folds': 10, 'accuracy': 0.8200000000000001, 'precision': 0.7499999999999999, 'recall': 0.75, 'f1': 0.7242063492063492}\n",
      "--------------------------------------------------\n"
     ]
    },
    {
     "name": "stderr",
     "output_type": "stream",
     "text": [
      "C:\\Users\\Beatriz\\AppData\\Roaming\\Python\\Python313\\site-packages\\sklearn\\metrics\\_classification.py:1565: UndefinedMetricWarning: Precision is ill-defined and being set to 0.0 in labels with no predicted samples. Use `zero_division` parameter to control this behavior.\n",
      "  _warn_prf(average, modifier, f\"{metric.capitalize()} is\", len(result))\n",
      "C:\\Users\\Beatriz\\AppData\\Roaming\\Python\\Python313\\site-packages\\sklearn\\metrics\\_classification.py:1565: UndefinedMetricWarning: Precision is ill-defined and being set to 0.0 in labels with no predicted samples. Use `zero_division` parameter to control this behavior.\n",
      "  _warn_prf(average, modifier, f\"{metric.capitalize()} is\", len(result))\n",
      "C:\\Users\\Beatriz\\AppData\\Roaming\\Python\\Python313\\site-packages\\sklearn\\metrics\\_classification.py:1565: UndefinedMetricWarning: Precision is ill-defined and being set to 0.0 in labels with no predicted samples. Use `zero_division` parameter to control this behavior.\n",
      "  _warn_prf(average, modifier, f\"{metric.capitalize()} is\", len(result))\n"
     ]
    }
   ],
   "source": [
    "resultsMin = {}\n",
    "\n",
    "for k in [1, 3, 5, 7, 9]:\n",
    "    for folds in [5, 10]:\n",
    "        knn = KNeighborsClassifier(n_neighbors=k)\n",
    "        cv = StratifiedKFold(n_splits=folds, shuffle=True, random_state=42)\n",
    "        scoring = ['accuracy', 'precision_macro', 'recall_macro', 'f1_macro']\n",
    "        res = cross_validate(knn, X_train_Min, y_train_Min, cv=cv, scoring=scoring)\n",
    "        resultsMin[f\"k={k},folds={folds}\"] = res\n",
    "        \n",
    "# Consolidação das métricas\n",
    "summaryMin = []\n",
    "for config, res in resultsMin.items():\n",
    "    summaryMin.append({\n",
    "        \"config\": config,\n",
    "        \"K\": int(config.split(',')[0].split('=')[1]),\n",
    "        \"folds\": int(config.split(',')[1].split('=')[1]),\n",
    "        \"accuracy\": np.mean(res['test_accuracy']),\n",
    "        \"precision\": np.mean(res['test_precision_macro']),\n",
    "        \"recall\": np.mean(res['test_recall_macro']),\n",
    "        \"f1\": np.mean(res['test_f1_macro'])\n",
    "    })\n",
    "\n",
    "baseline_df = pd.DataFrame(summaryMin)\n",
    "print(baseline_df)\n",
    "\n",
    "# Lista de colunas a validar\n",
    "metricas = [\"accuracy\", \"precision\", \"recall\", \"f1\"]\n",
    "\n",
    "# Dicionário para armazenar os resultados\n",
    "maiores_resultados_MinMax = {}\n",
    "\n",
    "# Loop para encontrar o maior valor e a linha correspondente para cada métrica\n",
    "for metrica in metricas:\n",
    "    maior_valor = baseline_df[metrica].max()\n",
    "    maior_linha = baseline_df[baseline_df[metrica] == maior_valor]\n",
    "    # Convertendo para dicionário a primeira linha (caso haja empate, pega só a primeira)\n",
    "    maior_linha_dict = maior_linha.to_dict(orient='records')[0]\n",
    "    maiores_resultados_MinMax[metrica] = {\n",
    "        \"valor\": maior_valor,\n",
    "        \"linha\": maior_linha_dict\n",
    "    }\n",
    "\n",
    "# Exibir os resultados\n",
    "for metrica, resultado in maiores_resultados_MinMax.items():\n",
    "    print(f\"Métrica: {metrica}\")\n",
    "    print(f\"Maior valor: {resultado['valor']}\")\n",
    "    print(\"Linha correspondente:\")\n",
    "    print(resultado['linha'])\n",
    "    print(\"-\" * 50)\n",
    "\n"
   ]
  },
  {
   "cell_type": "code",
   "execution_count": 16,
   "id": "87f0c513",
   "metadata": {},
   "outputs": [
    {
     "name": "stdout",
     "output_type": "stream",
     "text": [
      "Maior resultado entre MinMaxScaler e StandardScaler:\n",
      "Dataframe: MinMaxScaler\n",
      "Métrica: accuracy\n",
      "Maior valor: 0.8200000000000001\n",
      "Linha correspondente:\n",
      "{'config': 'k=9,folds=10', 'K': 9, 'folds': 10, 'accuracy': 0.8200000000000001, 'precision': 0.7499999999999999, 'recall': 0.75, 'f1': 0.7242063492063492}\n",
      "--------------------------------------------------\n",
      "Dataframe: MinMaxScaler\n",
      "Métrica: precision\n",
      "Maior valor: 0.8861111111111111\n",
      "Linha correspondente:\n",
      "{'config': 'k=9,folds=5', 'K': 9, 'folds': 5, 'accuracy': 0.8, 'precision': 0.8861111111111111, 'recall': 0.7166666666666666, 'f1': 0.7241666666666667}\n",
      "--------------------------------------------------\n",
      "Dataframe: MinMaxScaler\n",
      "Métrica: recall\n",
      "Maior valor: 0.75\n",
      "Linha correspondente:\n",
      "{'config': 'k=9,folds=10', 'K': 9, 'folds': 10, 'accuracy': 0.8200000000000001, 'precision': 0.7499999999999999, 'recall': 0.75, 'f1': 0.7242063492063492}\n",
      "--------------------------------------------------\n",
      "Dataframe: StandardScaler\n",
      "Métrica: f1\n",
      "Maior valor: 0.7462271062271062\n",
      "Linha correspondente:\n",
      "{'config': 'k=5,folds=5', 'K': 5, 'folds': 5, 'accuracy': 0.78, 'precision': 0.7863095238095239, 'recall': 0.7404761904761905, 'f1': 0.7462271062271062}\n",
      "--------------------------------------------------\n"
     ]
    }
   ],
   "source": [
    "#pegar maior valor de maiores_resultados_MinMax e maiores_resultados_StandardScaler e salvar em um dicionário\n",
    "maior_resultado = {}\n",
    "for metrica in metricas:\n",
    "    if maiores_resultados_MinMax[metrica]['valor'] > maiores_resultados_StandardScaler[metrica]['valor']:\n",
    "        maior_resultado[metrica] = maiores_resultados_MinMax[metrica]\n",
    "    else:\n",
    "        maior_resultado[metrica] = maiores_resultados_StandardScaler[metrica]\n",
    "\n",
    "# Exibir o maior resultado\n",
    "print(\"Maior resultado entre MinMaxScaler e StandardScaler:\")\n",
    "for metrica, resultado in maior_resultado.items():\n",
    "    print(f\"Dataframe: {'MinMaxScaler' if resultado == maiores_resultados_MinMax[metrica] else 'StandardScaler'}\")\n",
    "    print(f\"Métrica: {metrica}\")\n",
    "    print(f\"Maior valor: {resultado['valor']}\")\n",
    "    print(\"Linha correspondente:\")\n",
    "    print(resultado['linha'])\n",
    "    print(\"-\" * 50)\n"
   ]
  },
  {
   "cell_type": "code",
   "execution_count": 24,
   "id": "b0d7245d",
   "metadata": {},
   "outputs": [
    {
     "name": "stdout",
     "output_type": "stream",
     "text": [
      "Maior valor: 0.8861111111111111, K: 9, Folds: 5\n",
      "Best model: K=9, Folds=5, Precision=0.8861\n",
      "Acurácia: 0.6818\n",
      "Precisão: 0.8333\n",
      "Recall: 0.5625\n",
      "F1 Score: 0.5111\n"
     ]
    }
   ],
   "source": [
    "# ------------------- Model evaluation -------------------\n",
    "\n",
    "#pega o maior valor entre todos e salva ele e o k e o folds\n",
    "maior_valor = 0\n",
    "for metrica in metricas:\n",
    "    if maior_resultado[metrica]['valor'] > maior_valor:\n",
    "        maior_valor = maior_resultado[metrica]['valor']\n",
    "        k = maior_resultado[metrica]['linha']['K']\n",
    "        folds = maior_resultado[metrica]['linha']['folds']\n",
    "print(f\"Maior valor: {maior_valor}, K: {k}, Folds: {folds}\")\n",
    "\n",
    "# best model\n",
    "final_model = KNeighborsClassifier(n_neighbors=k)\n",
    "cv = StratifiedKFold(n_splits=folds, shuffle=True, random_state=42)\n",
    "res = cross_validate(final_model, X_train_Min, y_train_Min, cv=cv, scoring='precision_macro')\n",
    "print(f\"Best model: K={k}, Folds={folds}, Precision={np.mean(res['test_score']):.4f}\")\n",
    "\n",
    "final_model.fit(X_train_Min, y_train_Min)  # training the model\n",
    "\n",
    "y_pred = final_model.predict(X_test_Min)\n",
    "acc = accuracy_score(y_test_Min, y_pred)\n",
    "precision = precision_score(y_test_Min, y_pred, average='macro')\n",
    "recall = recall_score(y_test_Min, y_pred, average='macro')\n",
    "f1 = f1_score(y_test_Min, y_pred, average='macro')\n",
    "print(f\"Acurácia: {acc:.4f}\")\n",
    "print(f\"Precisão: {precision:.4f}\")\n",
    "print(f\"Recall: {recall:.4f}\")\n",
    "print(f\"F1 Score: {f1:.4f}\")\n"
   ]
  },
  {
   "cell_type": "code",
   "execution_count": null,
   "id": "2bbb4ac5",
   "metadata": {},
   "outputs": [
    {
     "data": {
      "image/png": "[encoded data removed]",
      "text/plain": [
       "<Figure size 640x480 with 2 Axes>"
      ]
     },
     "metadata": {},
     "output_type": "display_data"
    }
   ],
   "source": [
    "# ------------------- Matriz de Confusão -------------------\n",
    "cm = confusion_matrix(y_test_Min, y_pred)\n",
    "sns.heatmap(cm, annot=True, fmt=\"d\", cmap=\"Blues\")\n",
    "plt.xlabel(\"Previsto\")\n",
    "plt.ylabel(\"Real\")\n",
    "plt.title(\"Matriz de Confusão\")\n",
    "plt.show()"
   ]
  },
  {
   "cell_type": "markdown",
   "id": "b1a84c88",
   "metadata": {},
   "source": [
    "___\n",
    "### 1.4 Seleção de características (pelo menos duas abordagens distintas)\n",
    "Abordagens utilizdas: Seleção Univariada (ANOVA F-Score) e Importância via Random Forest"
   ]
  },
  {
   "cell_type": "code",
   "execution_count": 103,
   "id": "7c0ffbb5",
   "metadata": {},
   "outputs": [
    {
     "data": {
      "image/png": "[encoded data removed]",
      "text/plain": [
       "<Figure size 800x500 with 1 Axes>"
      ]
     },
     "metadata": {},
     "output_type": "display_data"
    }
   ],
   "source": [
    "# Parâmetros\n",
    "from sklearn.ensemble import RandomForestClassifier\n",
    "\n",
    "minmax_scaler = MinMaxScaler()\n",
    "X_scaledM = minmax_scaler.fit_transform(X)\n",
    "\n",
    "X_reducedM = pd.DataFrame(minmax_scaler.fit_transform(X), columns=X.columns)\n",
    "\n",
    "\n",
    "N_features = [10, 50, 100]  # caso tenha menos que 100 features\n",
    "results = {\n",
    "    'Univariada (F-score)': [],\n",
    "    'Random Forest (Importância)': []\n",
    "}\n",
    "\n",
    "# Método 1: Seleção Univariada (ANOVA F-score)\n",
    "for N in N_features:\n",
    "    selector = SelectKBest(score_func=f_classif, k=N)\n",
    "    X_selected = selector.fit_transform(X_reducedM, y)\n",
    "    model = KNeighborsClassifier(n_neighbors=5)\n",
    "    scores = cross_val_score(model, X_selected, y, cv=5)\n",
    "    results['Univariada (F-score)'].append(scores.mean())\n",
    "\n",
    "# Método 2: Importância via Random Forest\n",
    "rf = RandomForestClassifier(random_state=42)\n",
    "rf.fit(X_reducedM, y)\n",
    "importances = rf.feature_importances_\n",
    "indices = np.argsort(importances)[::-1]  # do maior pro menor\n",
    "\n",
    "for N in N_features:\n",
    "    top_indices = indices[:N]\n",
    "    X_selected = X_reducedM.iloc[:, top_indices]\n",
    "    model = KNeighborsClassifier(n_neighbors=5)\n",
    "    scores = cross_val_score(model, X_selected, y, cv=5)\n",
    "    results['Random Forest (Importância)'].append(scores.mean())\n",
    "\n",
    "# Gráfico: N × Acurácia\n",
    "plt.figure(figsize=(8, 5))\n",
    "for method, accs in results.items():\n",
    "    plt.plot(N_features, accs, marker='o', label=method)\n",
    "\n",
    "plt.title(\"Nº de Genes Selecionados × Acurácia\")\n",
    "plt.xlabel(\"Número de Genes Selecionados (N)\")\n",
    "plt.ylabel(\"Acurácia Média (Validação Cruzada)\")\n",
    "plt.legend()\n",
    "plt.grid(True)\n",
    "plt.tight_layout()\n",
    "plt.show()"
   ]
  },
  {
   "cell_type": "markdown",
   "id": "60693056",
   "metadata": {},
   "source": [
    "___\n",
    "### 1.5 Comparação crítica\n",
    "Comparando o desempenho dos modelos: (i) todas as features; (ii) cada subconjunto selecionado. Discussão do over/underfitting, efeito da alta dimensionalidade e tempo de execução estarão no relatório."
   ]
  },
  {
   "cell_type": "code",
   "execution_count": 105,
   "id": "d735b2fd",
   "metadata": {},
   "outputs": [
    {
     "name": "stdout",
     "output_type": "stream",
     "text": [
      "                        método     N  accuracy  precision  recall     f1\n",
      "1         Univariada (F-score)    50  0.873333        NaN     NaN    NaN\n",
      "0         Univariada (F-score)    10  0.872381        NaN     NaN    NaN\n",
      "5  Random Forest (Importância)   100  0.830476        NaN     NaN    NaN\n",
      "2         Univariada (F-score)   100  0.817143        NaN     NaN    NaN\n",
      "4  Random Forest (Importância)    50  0.816190        NaN     NaN    NaN\n",
      "3  Random Forest (Importância)    10  0.814286        NaN     NaN    NaN\n",
      "6            Todas as features  7129  0.800000   0.789167   0.725  0.715\n"
     ]
    },
    {
     "name": "stderr",
     "output_type": "stream",
     "text": [
      "C:\\Users\\Beatriz\\AppData\\Local\\Temp\\ipykernel_18568\\978557926.py:23: FutureWarning: The behavior of DataFrame concatenation with empty or all-NA entries is deprecated. In a future version, this will no longer exclude empty or all-NA columns when determining the result dtypes. To retain the old behavior, exclude the relevant entries before the concat operation.\n",
      "  comparacao_df = pd.concat([\n"
     ]
    },
    {
     "data": {
      "text/plain": [
       "'\\n# Gráfico de comparação de acurácia\\n\\n\\nplt.figure(figsize=(10,6))\\nsns.lineplot(data=comparacao_df, x=\\'N\\', y=\\'accuracy\\', hue=\\'método\\', marker=\\'o\\')\\nplt.title(\"Comparação de Acurácia: Todas as Features vs Seleção de Features\")\\nplt.xlabel(\"Número de Genes Selecionados\")\\nplt.ylabel(\"Acurácia\")\\nplt.grid(True)\\nplt.tight_layout()\\nplt.show()\\n\\n'"
      ]
     },
     "execution_count": 105,
     "metadata": {},
     "output_type": "execute_result"
    }
   ],
   "source": [
    "# Extrai o melhor resultado do baseline\n",
    "melhor_baseline = baseline_df.loc[baseline_df['accuracy'].idxmax()].copy()\n",
    "melhor_baseline['método'] = 'Todas as features'\n",
    "melhor_baseline['N'] = X.shape[1]  # total de genes\n",
    "\n",
    "# Organiza resultados da seleção de features em DataFrame\n",
    "comparativos = []\n",
    "\n",
    "for metodo, accs in results.items():\n",
    "    for i, N in enumerate(N_features):\n",
    "        comparativos.append({\n",
    "            'método': metodo,\n",
    "            'N': N,\n",
    "            'accuracy': accs[i],\n",
    "            'precision': None,\n",
    "            'recall': None,\n",
    "            'f1': None\n",
    "        })\n",
    "\n",
    "fs_df = pd.DataFrame(comparativos)\n",
    "\n",
    "# Junta o baseline com os modelos com seleção de features\n",
    "comparacao_df = pd.concat([\n",
    "    fs_df,\n",
    "    pd.DataFrame([melhor_baseline])[['método', 'N', 'accuracy', 'precision', 'recall', 'f1']]\n",
    "], ignore_index=True)\n",
    "\n",
    "# Exibe a tabela ordenada por acurácia\n",
    "print(comparacao_df.sort_values(by='accuracy', ascending=False))\n",
    "\n",
    "\"\"\"\n",
    "# Gráfico de comparação de acurácia\n",
    "\n",
    "\n",
    "plt.figure(figsize=(10,6))\n",
    "sns.lineplot(data=comparacao_df, x='N', y='accuracy', hue='método', marker='o')\n",
    "plt.title(\"Comparação de Acurácia: Todas as Features vs Seleção de Features\")\n",
    "plt.xlabel(\"Número de Genes Selecionados\")\n",
    "plt.ylabel(\"Acurácia\")\n",
    "plt.grid(True)\n",
    "plt.tight_layout()\n",
    "plt.show()\n",
    "\n",
    "\"\"\"\n",
    "\n"
   ]
  },
  {
   "cell_type": "markdown",
   "id": "706063ad",
   "metadata": {},
   "source": [
    "___\n",
    "### 1.6 Interpretação biológica\n",
    "Extra: balanceamento de classes feito com SMOTE, pois o dataset apresenta um desbalanceamento considerável (ALL ≈ 65%, AML ≈ 35%). Por isso, ele identifica muito bem o ALL, mas ainda falha em identificar a classe minoritária. Há um overfitting da classe no espaço reduzido + comparação de matrizes de confusão."
   ]
  },
  {
   "cell_type": "code",
   "execution_count": 88,
   "id": "a089c6f6",
   "metadata": {},
   "outputs": [
    {
     "name": "stdout",
     "output_type": "stream",
     "text": [
      "         config  K  folds  accuracy  precision    recall        f1\n",
      "0   k=1,folds=5  1      5  0.879121   0.890476  0.878571  0.878009\n",
      "1  k=1,folds=10  1     10  0.909524   0.930000  0.908333  0.906032\n",
      "2   k=3,folds=5  3      5  0.880220   0.888095  0.878571  0.879071\n",
      "3  k=3,folds=10  3     10  0.878571   0.892500  0.875000  0.874960\n",
      "4   k=5,folds=5  5      5  0.909890   0.921825  0.907143  0.908366\n",
      "5  k=5,folds=10  5     10  0.878571   0.892500  0.875000  0.874960\n",
      "6   k=7,folds=5  7      5  0.925275   0.934325  0.923810  0.924123\n",
      "7  k=7,folds=10  7     10  0.923810   0.934167  0.920833  0.921270\n",
      "8   k=9,folds=5  9      5  0.925275   0.934325  0.923810  0.924123\n",
      "9  k=9,folds=10  9     10  0.909524   0.924167  0.904167  0.905714\n",
      "Métrica: accuracy\n",
      "Maior valor: 0.9252747252747252\n",
      "Linha correspondente:\n",
      "{'config': 'k=7,folds=5', 'K': 7, 'folds': 5, 'accuracy': 0.9252747252747252, 'precision': 0.9343253968253968, 'recall': 0.9238095238095237, 'f1': 0.9241233766233765}\n",
      "--------------------------------------------------\n",
      "Métrica: precision\n",
      "Maior valor: 0.9343253968253968\n",
      "Linha correspondente:\n",
      "{'config': 'k=7,folds=5', 'K': 7, 'folds': 5, 'accuracy': 0.9252747252747252, 'precision': 0.9343253968253968, 'recall': 0.9238095238095237, 'f1': 0.9241233766233765}\n",
      "--------------------------------------------------\n",
      "Métrica: recall\n",
      "Maior valor: 0.9238095238095237\n",
      "Linha correspondente:\n",
      "{'config': 'k=7,folds=5', 'K': 7, 'folds': 5, 'accuracy': 0.9252747252747252, 'precision': 0.9343253968253968, 'recall': 0.9238095238095237, 'f1': 0.9241233766233765}\n",
      "--------------------------------------------------\n",
      "Métrica: f1\n",
      "Maior valor: 0.9241233766233765\n",
      "Linha correspondente:\n",
      "{'config': 'k=7,folds=5', 'K': 7, 'folds': 5, 'accuracy': 0.9252747252747252, 'precision': 0.9343253968253968, 'recall': 0.9238095238095237, 'f1': 0.9241233766233765}\n",
      "--------------------------------------------------\n"
     ]
    },
    {
     "data": {
      "image/png": "[encoded data removed]",
      "text/plain": [
       "<Figure size 1200x500 with 4 Axes>"
      ]
     },
     "metadata": {},
     "output_type": "display_data"
    }
   ],
   "source": [
    "# ------------------- SMOTE e KNN -------------------\n",
    "# data normalization\n",
    "scaler = StandardScaler()\n",
    "X_scaled = scaler.fit_transform(X)\n",
    "\n",
    "# Redução para 100 features (pode ser com SelectKBest ou outro método)\n",
    "selector = SelectKBest(score_func=f_classif, k=20)\n",
    "X_reduced = selector.fit_transform(X_scaled, y)\n",
    "\n",
    "X_train, X_test, y_train, y_test = train_test_split(\n",
    "    X_reduced, y, test_size=0.3, stratify=y, random_state=42)\n",
    "\n",
    "# SMOTE to balance the dataset\n",
    "smote = SMOTE(random_state=42)\n",
    "X_resampled, y_resampled = smote.fit_resample(X_train, y_train)\n",
    "\n",
    "results = {}\n",
    "\n",
    "for k in [1, 3, 5, 7, 9]:\n",
    "    for folds in [5, 10]:\n",
    "        knn = KNeighborsClassifier(n_neighbors=k)\n",
    "        cv = StratifiedKFold(n_splits=folds, shuffle=True, random_state=42)\n",
    "        scoring = ['accuracy', 'precision_macro', 'recall_macro', 'f1_macro']\n",
    "        res = cross_validate(knn, X_resampled, y_resampled, cv=cv, scoring=scoring)\n",
    "        results[f\"k={k},folds={folds}\"] = res\n",
    "\n",
    "# Consolidação das métricas\n",
    "summary = []\n",
    "for config, res in results.items():\n",
    "    summary.append({\n",
    "        \"config\": config,\n",
    "        \"K\": int(config.split(',')[0].split('=')[1]),\n",
    "        \"folds\": int(config.split(',')[1].split('=')[1]),\n",
    "        \"accuracy\": np.mean(res['test_accuracy']),\n",
    "        \"precision\": np.mean(res['test_precision_macro']),\n",
    "        \"recall\": np.mean(res['test_recall_macro']),\n",
    "        \"f1\": np.mean(res['test_f1_macro'])\n",
    "    })\n",
    "\n",
    "baseline_df = pd.DataFrame(summary)\n",
    "print(baseline_df)\n",
    "\n",
    "# Lista de colunas a validar\n",
    "metricas = [\"accuracy\", \"precision\", \"recall\", \"f1\"]\n",
    "\n",
    "# Dicionário para armazenar os resultados\n",
    "maiores_resultados_StandardScaler = {}\n",
    "\n",
    "# Loop para encontrar o maior valor e a linha correspondente para cada métrica\n",
    "for metrica in metricas:\n",
    "    maior_valor = baseline_df[metrica].max()\n",
    "    maior_linha = baseline_df[baseline_df[metrica] == maior_valor]\n",
    "    # Convertendo para dicionário a primeira linha (caso haja empate, pega só a primeira)\n",
    "    maior_linha_dict = maior_linha.to_dict(orient='records')[0]\n",
    "    maiores_resultados_StandardScaler[metrica] = {\n",
    "        \"valor\": maior_valor,\n",
    "        \"linha\": maior_linha_dict\n",
    "    }\n",
    "\n",
    "# Exibir os resultados\n",
    "for metrica, resultado in maiores_resultados_StandardScaler.items():\n",
    "    print(f\"Métrica: {metrica}\")\n",
    "    print(f\"Maior valor: {resultado['valor']}\")\n",
    "    print(\"Linha correspondente:\")\n",
    "    print(resultado['linha'])\n",
    "    print(\"-\" * 50)\n",
    "\n",
    "# ------------------- matriz de confusão -------------------\n",
    "fig, axes = plt.subplots(1, 2, figsize=(12, 5))\n",
    "\n",
    "# Sem SMOTE\n",
    "knn_original = KNeighborsClassifier(n_neighbors=5)\n",
    "knn_original.fit(X_train, y_train)\n",
    "y_pred_original = knn_original.predict(X_test)\n",
    "cm_original = confusion_matrix(y_test, y_pred_original)\n",
    "sns.heatmap(cm_original, annot=True, fmt=\"d\", cmap=\"Blues\", ax=axes[0])\n",
    "axes[0].set_title(\"Sem SMOTE\")\n",
    "axes[0].set_xlabel(\"Previsto\")\n",
    "axes[0].set_ylabel(\"Real\")\n",
    "\n",
    "# Com SMOTE\n",
    "knn_smote = KNeighborsClassifier(n_neighbors=5)\n",
    "knn_smote.fit(X_resampled, y_resampled)\n",
    "y_pred_smote = knn_smote.predict(X_test)\n",
    "cm_smote = confusion_matrix(y_test, y_pred_smote)\n",
    "sns.heatmap(cm_smote, annot=True, fmt=\"d\", cmap=\"Blues\", ax=axes[1])\n",
    "axes[1].set_title(\"Com SMOTE\")\n",
    "axes[1].set_xlabel(\"Previsto\")\n",
    "axes[1].set_ylabel(\"Real\")\n",
    "\n",
    "plt.tight_layout()\n",
    "plt.show()"
   ]
  },
  {
   "cell_type": "markdown",
   "id": "b90f89fd",
   "metadata": {},
   "source": [
    "Selecionando os 5 genes que mais contribuíram para o melhor modelo"
   ]
  },
  {
   "cell_type": "code",
   "execution_count": 89,
   "id": "84f39c46",
   "metadata": {},
   "outputs": [
    {
     "name": "stdout",
     "output_type": "stream",
     "text": [
      "Genes mais relevantes (top 5):\n",
      "M80254_at: F-score = 34.52\n",
      "M96326_rna1_at: F-score = 33.38\n",
      "X17042_at: F-score = 30.00\n",
      "U46751_at: F-score = 29.70\n",
      "X16546_at: F-score = 26.86\n"
     ]
    }
   ],
   "source": [
    "# ------------------- Most Relevant Genes -------------------\n",
    "# get the selected features from the SelectKBest\n",
    "selected_indices = selector.get_support(indices=True)\n",
    "selected_scores = selector.scores_[selected_indices]\n",
    "\n",
    "selected_genes = X.columns[selected_indices]\n",
    "gene_scores = list(zip(selected_genes, selected_scores))\n",
    "\n",
    "gene_scores_sorted = sorted(gene_scores, key=lambda x: x[1], reverse=True)\n",
    "\n",
    "# ranked by F-score\n",
    "print(\"Genes mais relevantes (top 5):\")\n",
    "for gene, score in gene_scores_sorted[:5]:\n",
    "    print(f\"{gene}: F-score = {score:.2f}\")"
   ]
  }
 ],
 "metadata": {
  "kernelspec": {
   "display_name": "Python 3",
   "language": "python",
   "name": "python3"
  },
  "language_info": {
   "codemirror_mode": {
    "name": "ipython",
    "version": 3
   },
   "file_extension": ".py",
   "mimetype": "text/x-python",
   "name": "python",
   "nbconvert_exporter": "python",
   "pygments_lexer": "ipython3",
   "version": "3.13.1"
  }
 },
 "nbformat": 4,
 "nbformat_minor": 5
}
